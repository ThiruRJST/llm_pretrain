{
 "cells": [
  {
   "cell_type": "code",
   "execution_count": 6,
   "id": "508747c1",
   "metadata": {},
   "outputs": [],
   "source": [
    "from dataclasses import dataclass\n",
    "\n",
    "\n",
    "@dataclass\n",
    "class Config:\n",
    "    pretrain_raw_data = \"dataset/tamil_pretrain.txt\"\n",
    "    context_length = 512\n",
    "    filtered_data = \"dataset/filtered_cl_tamil_pretrain.txt\""
   ]
  },
  {
   "cell_type": "code",
   "execution_count": 7,
   "id": "2bffd96b",
   "metadata": {},
   "outputs": [],
   "source": [
    "from datasets import load_dataset"
   ]
  },
  {
   "cell_type": "code",
   "execution_count": 16,
   "id": "1005d685",
   "metadata": {},
   "outputs": [],
   "source": [
    "raw_data = load_dataset(\"text\", data_files=Config.filtered_data, streaming=True)"
   ]
  },
  {
   "cell_type": "code",
   "execution_count": 18,
   "id": "fdca8fcb",
   "metadata": {},
   "outputs": [
    {
     "name": "stdout",
     "output_type": "stream",
     "text": [
      "1062\n"
     ]
    }
   ],
   "source": [
    "for data in raw_data['train']:\n",
    "    print(len(data['text']))\n",
    "    break"
   ]
  },
  {
   "cell_type": "code",
   "execution_count": 14,
   "id": "84d10466",
   "metadata": {},
   "outputs": [],
   "source": [
    "import mmap\n",
    "import re\n",
    "\n",
    "def clean_whitespaces(text):\n",
    "    return re.sub(r\"\\s+\", \" \", text).strip()\n",
    "\n",
    "\n",
    "def filter_sentences(file_path, max_len, output_file):\n",
    "    with open(file_path, \"r\", encoding=\"utf-8\") as f:\n",
    "\n",
    "        mmapped_file = mmap.mmap(\n",
    "            f.fileno(),\n",
    "            0,\n",
    "            access=mmap.ACCESS_READ\n",
    "        )\n",
    "        with open(output_file, \"w\") as out_file:\n",
    "            for line in iter(mmapped_file.readline, b\"\"):\n",
    "                sentence = line.decode(\"utf-8\").strip()\n",
    "                sentence = clean_whitespaces(sentence)\n",
    "                if sentence:\n",
    "                    if len(sentence) >= max_len:\n",
    "                        out_file.write(sentence + \"\\n\")\n",
    "        mmapped_file.close()"
   ]
  },
  {
   "cell_type": "code",
   "execution_count": 15,
   "id": "c906db63",
   "metadata": {},
   "outputs": [],
   "source": [
    "filter_sentences(Config.pretrain_raw_data, Config.context_length, \"dataset/filtered_cl_tamil_pretrain.txt\")"
   ]
  },
  {
   "cell_type": "code",
   "execution_count": null,
   "id": "fcefc2e5",
   "metadata": {},
   "outputs": [],
   "source": []
  }
 ],
 "metadata": {
  "kernelspec": {
   "display_name": "Python 3",
   "language": "python",
   "name": "python3"
  },
  "language_info": {
   "codemirror_mode": {
    "name": "ipython",
    "version": 3
   },
   "file_extension": ".py",
   "mimetype": "text/x-python",
   "name": "python",
   "nbconvert_exporter": "python",
   "pygments_lexer": "ipython3",
   "version": "3.10.16"
  }
 },
 "nbformat": 4,
 "nbformat_minor": 5
}
