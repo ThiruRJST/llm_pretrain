{
 "cells": [
  {
   "cell_type": "code",
   "execution_count": 11,
   "metadata": {},
   "outputs": [],
   "source": [
    "from tokenizers import (\n",
    "    decoders,\n",
    "    models,\n",
    "    normalizers,\n",
    "    pre_tokenizers,\n",
    "    processors,\n",
    "    trainers,\n",
    "    Tokenizer,\n",
    ")"
   ]
  },
  {
   "cell_type": "code",
   "execution_count": 12,
   "metadata": {},
   "outputs": [],
   "source": [
    "tamil_tokenizer = Tokenizer(models.BPE())"
   ]
  },
  {
   "cell_type": "markdown",
   "metadata": {},
   "source": [
    "## Pre Tokenization\n",
    "The BPE Tokenizer doesn't use any normalizer"
   ]
  },
  {
   "cell_type": "code",
   "execution_count": 13,
   "metadata": {},
   "outputs": [],
   "source": [
    "tamil_tokenizer.pre_tokenizer = pre_tokenizers.ByteLevel(add_prefix_space=False)"
   ]
  },
  {
   "cell_type": "code",
   "execution_count": 14,
   "metadata": {},
   "outputs": [
    {
     "data": {
      "text/plain": [
       "[('à®¤à®®', (0, 2)),\n",
       " ('à®¿', (2, 3)),\n",
       " ('à®´', (3, 4)),\n",
       " ('à¯į', (4, 5)),\n",
       " ('Ġà®µ', (5, 7)),\n",
       " ('à®¾', (7, 8)),\n",
       " ('à®´', (8, 9)),\n",
       " ('à¯į', (9, 10)),\n",
       " ('à®ķ', (10, 11))]"
      ]
     },
     "execution_count": 14,
     "metadata": {},
     "output_type": "execute_result"
    }
   ],
   "source": [
    "tamil_tokenizer.pre_tokenizer.pre_tokenize_str(sample_sentence)"
   ]
  },
  {
   "cell_type": "code",
   "execution_count": 17,
   "metadata": {},
   "outputs": [
    {
     "name": "stdout",
     "output_type": "stream",
     "text": [
      "\n",
      "\n",
      "\n"
     ]
    }
   ],
   "source": [
    "trainer = trainers.BpeTrainer(vocab_size=45000, special_tokens=[\"<|endoftext|>\"])\n",
    "tamil_tokenizer.model = models.BPE()\n",
    "tamil_tokenizer.train([\"dataset/tamil_pretrain.txt\"], trainer=trainer)"
   ]
  },
  {
   "cell_type": "code",
   "execution_count": 20,
   "metadata": {},
   "outputs": [
    {
     "data": {
      "text/plain": [
       "'தமிழ் வாழ்க'"
      ]
     },
     "execution_count": 20,
     "metadata": {},
     "output_type": "execute_result"
    }
   ],
   "source": [
    "sample_sentence"
   ]
  },
  {
   "cell_type": "code",
   "execution_count": 19,
   "metadata": {},
   "outputs": [
    {
     "name": "stdout",
     "output_type": "stream",
     "text": [
      "['à®¤à®®', 'à®¿', 'à®´', 'à¯į', 'Ġà®µ', 'à®¾', 'à®´', 'à¯į', 'à®ķ']\n"
     ]
    }
   ],
   "source": [
    "encoding = tamil_tokenizer.encode(sample_sentence)\n",
    "print(encoding.tokens)"
   ]
  },
  {
   "cell_type": "code",
   "execution_count": 21,
   "metadata": {},
   "outputs": [],
   "source": [
    "tamil_tokenizer.post_processor = processors.ByteLevel(trim_offsets=False)"
   ]
  },
  {
   "cell_type": "code",
   "execution_count": 24,
   "metadata": {},
   "outputs": [
    {
     "data": {
      "text/plain": [
       "' வ'"
      ]
     },
     "execution_count": 24,
     "metadata": {},
     "output_type": "execute_result"
    }
   ],
   "source": [
    "encoding = tamil_tokenizer.encode(sample_sentence)\n",
    "start, end = encoding.offsets[4]\n",
    "sample_sentence[start:end]"
   ]
  },
  {
   "cell_type": "code",
   "execution_count": 25,
   "metadata": {},
   "outputs": [],
   "source": [
    "tamil_tokenizer.decoder = decoders.ByteLevel()"
   ]
  },
  {
   "cell_type": "code",
   "execution_count": 26,
   "metadata": {},
   "outputs": [
    {
     "data": {
      "text/plain": [
       "'தமிழ் வாழ்க'"
      ]
     },
     "execution_count": 26,
     "metadata": {},
     "output_type": "execute_result"
    }
   ],
   "source": [
    "tamil_tokenizer.decode(encoding.ids)"
   ]
  },
  {
   "cell_type": "code",
   "execution_count": 27,
   "metadata": {},
   "outputs": [],
   "source": [
    "tamil_tokenizer.save(f\"bpe_tamil_tokenizer/tamil_bpe_tokenizer.json\")"
   ]
  },
  {
   "cell_type": "markdown",
   "metadata": {},
   "source": [
    "## Loading the pretrained tamil tokenizer"
   ]
  },
  {
   "cell_type": "code",
   "execution_count": 30,
   "metadata": {},
   "outputs": [],
   "source": [
    "sample = \"புதுச்சேரி-புதுச்சேரி சட்டசபை தேர்தலையொட்டி, அனைத்து பள்ளிகளுக்கும் நாளை 2ம் தேதி முதல், 7ம் தேதி வரை விடுமுறை அளிக்கப்பட்டுள்ளது.இது குறித்து புதுச்சேரி பள்ளி கல்வித் துறை இணை இயக்குனர் மைக்கேல் பென்னோ வெளியிட்டுள்ள செய்திக்குறிப்புபுதுச்சேரி சட்டசபை தேர்தல், வரும் 6ம் தேதி நடைபெற உள்ளது. அதையொட்டி புதுச்சேரி மாநிலத்தில் உள்ள அனைத்து பள்ளிகளுக்கும் நாளை 2ம் தேதி முதல் 7ம் தேதி வரை விடுமுறை அளிக்கப்படுகிறது. பத்தாம் வகுப்பு மற்றும் பிளஸ் 2 வகுப்புகளுக்கு 8ம் தேதி முதல் வகுப்புகள் நடைபெறும்.இவ்வாறு அதில் கூறப்பட்டுள்ளது.மாணவர், பெற்றோர் குழப்பம்கொரோனா தொற்று அதிகரித்து வரும் சூழ்நிலையில், புதுச்சேரியில் தமிழக பாடத்திட்டத்தின் கீழ் செயல்படும் பள்ளிகள், 1ம் வகுப்பு முதல் பிளஸ் 1 வகுப்பு வரை ரெகுலர் அல்லது சிறப்பு வகுப்பு நடத்தக் கூடாது. பொதுத்தேர்வு காரணமாக பிளஸ் 2 மாணவர்களுக்கு மட்டும் வகுப்பு நடத்தலாம் என பள்ளி கல்வித் துறை உத்தரவிட்டது.மேலும், சி.பி.எஸ்.இ., - ஐ.சி.எஸ்.இ., பாடத்திட்டத்தின் கீழ் செயல்படும் பள்ளிகள் 1ம் வகுப்பு முதல் 9ம் வகுப்பு வரை மற்றும் பிளஸ் 1 மாணவர்களுக்கு ரெகுலர், சிறப்பு வகுப்பு நடத்த கூடாது. 10 மற்றும் பிளஸ் 2 வகுப்புகளுக்கு பொதுத்தேர்வு வர உள்ளதால், வகுப்புகள் நடத்தி கொள்ளலாம் என அறிவித்தது.பள்ளிக்குவர வேண்டியது சி.பி.எஸ்.இ., மாணவர்களா, மாநில பாட வாரிய பள்ளி மாணவர்களா என்பதை குறிப்பிடாததால் பெற்றோர் மற்றும் மாணவர்கள் குழப்பம் அடைந்துள்ளனர்.\""
   ]
  },
  {
   "cell_type": "code",
   "execution_count": 31,
   "metadata": {},
   "outputs": [],
   "source": [
    "from transformers import PreTrainedTokenizerFast\n",
    "\n",
    "wrapped_tokenizer = PreTrainedTokenizerFast(\n",
    "    tokenizer_object=tamil_tokenizer,\n",
    "    bos_token=\"<|endoftext|>\",\n",
    "    eos_token=\"<|endoftext|>\",\n",
    ")"
   ]
  },
  {
   "cell_type": "code",
   "execution_count": 32,
   "metadata": {},
   "outputs": [],
   "source": [
    "enc_text = wrapped_tokenizer.encode(sample, add_special_tokens=True)"
   ]
  },
  {
   "cell_type": "code",
   "execution_count": 34,
   "metadata": {},
   "outputs": [
    {
     "data": {
      "text/plain": [
       "943"
      ]
     },
     "execution_count": 34,
     "metadata": {},
     "output_type": "execute_result"
    }
   ],
   "source": [
    "len(enc_text)"
   ]
  }
 ],
 "metadata": {
  "kernelspec": {
   "display_name": "venv",
   "language": "python",
   "name": "venv"
  },
  "language_info": {
   "codemirror_mode": {
    "name": "ipython",
    "version": 3
   },
   "file_extension": ".py",
   "mimetype": "text/x-python",
   "name": "python",
   "nbconvert_exporter": "python",
   "pygments_lexer": "ipython3",
   "version": "3.10.16"
  }
 },
 "nbformat": 4,
 "nbformat_minor": 4
}
